{
 "cells": [
  {
   "cell_type": "code",
   "execution_count": 1,
   "id": "c058a4e0",
   "metadata": {},
   "outputs": [],
   "source": [
    "import pandas as pd"
   ]
  },
  {
   "cell_type": "markdown",
   "id": "3edb3bbb",
   "metadata": {},
   "source": [
    "# SCENIC steps"
   ]
  },
  {
   "cell_type": "markdown",
   "id": "6ba4b21a",
   "metadata": {},
   "source": [
    "### STEP 1: Gene regulatory network inference, and generation of co-expression modules"
   ]
  },
  {
   "cell_type": "code",
   "execution_count": 2,
   "id": "17cb527c",
   "metadata": {},
   "outputs": [],
   "source": [
    "subcluster = 'Naive'"
   ]
  },
  {
   "cell_type": "code",
   "execution_count": 3,
   "id": "98bd3b54",
   "metadata": {},
   "outputs": [],
   "source": [
    "# transcription factors list\n",
    "f_tfs = \"./data/allTFs_hg38.txt\" # human"
   ]
  },
  {
   "cell_type": "code",
   "execution_count": 4,
   "id": "dd7c8ec7",
   "metadata": {},
   "outputs": [],
   "source": [
    "# gene expression matrix directory\n",
    "f_loom_path_scenic = './data/' + subcluster + '_scenic.loom'"
   ]
  },
  {
   "cell_type": "code",
   "execution_count": 27,
   "id": "cc444b9e",
   "metadata": {
    "scrolled": true
   },
   "outputs": [
    {
     "name": "stdout",
     "output_type": "stream",
     "text": [
      "\n",
      "2022-11-07 17:44:41,823 - pyscenic.cli.pyscenic - INFO - Loading expression matrix.\n",
      "\n",
      "2022-11-07 17:44:45,096 - pyscenic.cli.pyscenic - INFO - Inferring regulatory networks.\n",
      "Numba: Attempted to fork from a non-main thread, the TBB library may be in an invalid state in the child process.\n",
      "Numba: Attempted to fork from a non-main thread, the TBB library may be in an invalid state in the child process.\n",
      "Numba: Attempted to fork from a non-main thread, the TBB library may be in an invalid state in the child process.\n",
      "Numba: Attempted to fork from a non-main thread, the TBB library may be in an invalid state in the child process.\n",
      "Numba: Attempted to fork from a non-main thread, the TBB library may be in an invalid state in the child process.\n",
      "Numba: Attempted to fork from a non-main thread, the TBB library may be in an invalid state in the child process.\n",
      "Numba: Attempted to fork from a non-main thread, the TBB library may be in an invalid state in the child process.\n",
      "Numba: Attempted to fork from a non-main thread, the TBB library may be in an invalid state in the child process.\n",
      "Numba: Attempted to fork from a non-main thread, the TBB library may be in an invalid state in the child process.\n",
      "Numba: Attempted to fork from a non-main thread, the TBB library may be in an invalid state in the child process.\n",
      "Numba: Attempted to fork from a non-main thread, the TBB library may be in an invalid state in the child process.\n",
      "Numba: Attempted to fork from a non-main thread, the TBB library may be in an invalid state in the child process.\n",
      "Numba: Attempted to fork from a non-main thread, the TBB library may be in an invalid state in the child process.\n",
      "Numba: Attempted to fork from a non-main thread, the TBB library may be in an invalid state in the child process.\n",
      "Numba: Attempted to fork from a non-main thread, the TBB library may be in an invalid state in the child process.\n",
      "Numba: Attempted to fork from a non-main thread, the TBB library may be in an invalid state in the child process.\n",
      "Numba: Attempted to fork from a non-main thread, the TBB library may be in an invalid state in the child process.\n",
      "Numba: Attempted to fork from a non-main thread, the TBB library may be in an invalid state in the child process.\n",
      "Numba: Attempted to fork from a non-main thread, the TBB library may be in an invalid state in the child process.\n",
      "Numba: Attempted to fork from a non-main thread, the TBB library may be in an invalid state in the child process.\n",
      "Numba: Attempted to fork from a non-main thread, the TBB library may be in an invalid state in the child process.\n",
      "Numba: Attempted to fork from a non-main thread, the TBB library may be in an invalid state in the child process.\n",
      "Numba: Attempted to fork from a non-main thread, the TBB library may be in an invalid state in the child process.\n",
      "Numba: Attempted to fork from a non-main thread, the TBB library may be in an invalid state in the child process.\n",
      "Numba: Attempted to fork from a non-main thread, the TBB library may be in an invalid state in the child process.\n",
      "Numba: Attempted to fork from a non-main thread, the TBB library may be in an invalid state in the child process.\n",
      "Numba: Attempted to fork from a non-main thread, the TBB library may be in an invalid state in the child process.\n",
      "Numba: Attempted to fork from a non-main thread, the TBB library may be in an invalid state in the child process.\n",
      "Numba: Attempted to fork from a non-main thread, the TBB library may be in an invalid state in the child process.\n",
      "Numba: Attempted to fork from a non-main thread, the TBB library may be in an invalid state in the child process.\n",
      "Numba: Attempted to fork from a non-main thread, the TBB library may be in an invalid state in the child process.\n",
      "Numba: Attempted to fork from a non-main thread, the TBB library may be in an invalid state in the child process.\n",
      "Numba: Attempted to fork from a non-main thread, the TBB library may be in an invalid state in the child process.\n",
      "Numba: Attempted to fork from a non-main thread, the TBB library may be in an invalid state in the child process.\n",
      "Numba: Attempted to fork from a non-main thread, the TBB library may be in an invalid state in the child process.\n",
      "Numba: Attempted to fork from a non-main thread, the TBB library may be in an invalid state in the child process.\n",
      "Numba: Attempted to fork from a non-main thread, the TBB library may be in an invalid state in the child process.\n",
      "Numba: Attempted to fork from a non-main thread, the TBB library may be in an invalid state in the child process.\n",
      "Numba: Attempted to fork from a non-main thread, the TBB library may be in an invalid state in the child process.\n",
      "Numba: Attempted to fork from a non-main thread, the TBB library may be in an invalid state in the child process.\n",
      "Numba: Attempted to fork from a non-main thread, the TBB library may be in an invalid state in the child process.\n",
      "Numba: Attempted to fork from a non-main thread, the TBB library may be in an invalid state in the child process.\n",
      "Numba: Attempted to fork from a non-main thread, the TBB library may be in an invalid state in the child process.\n",
      "Numba: Attempted to fork from a non-main thread, the TBB library may be in an invalid state in the child process.\n",
      "Numba: Attempted to fork from a non-main thread, the TBB library may be in an invalid state in the child process.\n",
      "Numba: Attempted to fork from a non-main thread, the TBB library may be in an invalid state in the child process.\n",
      "Numba: Attempted to fork from a non-main thread, the TBB library may be in an invalid state in the child process.\n",
      "Numba: Attempted to fork from a non-main thread, the TBB library may be in an invalid state in the child process.\n",
      "Numba: Attempted to fork from a non-main thread, the TBB library may be in an invalid state in the child process.\n",
      "Numba: Attempted to fork from a non-main thread, the TBB library may be in an invalid state in the child process.\n",
      "Numba: Attempted to fork from a non-main thread, the TBB library may be in an invalid state in the child process.\n",
      "preparing dask client\n",
      "parsing input\n",
      "creating dask graph\n",
      "50 partitions\n",
      "computing dask graph\n",
      "^C\n",
      "not shutting down client, client was created externally\n",
      "finished\n",
      "Process Dask Worker process (from Nanny):\n",
      "Traceback (most recent call last):\n",
      "  File \"/data/hour/miniconda3/lib/python3.8/multiprocessing/process.py\", line 315, in _bootstrap\n",
      "    self.run()\n",
      "  File \"/data/hour/miniconda3/lib/python3.8/multiprocessing/process.py\", line 108, in run\n",
      "    self._target(*self._args, **self._kwargs)\n",
      "  File \"/data/hour/miniconda3/lib/python3.8/site-packages/distributed/process.py\", line 175, in _run\n",
      "    target(*args, **kwargs)\n",
      "  File \"/data/hour/miniconda3/lib/python3.8/site-packages/distributed/nanny.py\", line 938, in _run\n",
      "    loop.run_sync(do_stop)\n",
      "  File \"/data/hour/miniconda3/lib/python3.8/site-packages/tornado/ioloop.py\", line 523, in run_sync\n",
      "    self.start()\n",
      "  File \"/data/hour/miniconda3/lib/python3.8/site-packages/tornado/platform/asyncio.py\", line 215, in start\n",
      "    self.asyncio_loop.run_forever()\n",
      "  File \"/data/hour/miniconda3/lib/python3.8/asyncio/base_events.py\", line 570, in run_forever\n",
      "    self._run_once()\n",
      "  File \"/data/hour/miniconda3/lib/python3.8/asyncio/base_events.py\", line 1859, in _run_once\n",
      "    handle._run()\n",
      "  File \"/data/hour/miniconda3/lib/python3.8/asyncio/events.py\", line 81, in _run\n",
      "    self._context.run(self._callback, *self._args)\n",
      "  File \"/data/hour/miniconda3/lib/python3.8/site-packages/tornado/ioloop.py\", line 687, in <lambda>\n",
      "    lambda f: self._run_callback(functools.partial(callback, future))\n",
      "  File \"/data/hour/miniconda3/lib/python3.8/site-packages/tornado/ioloop.py\", line 740, in _run_callback\n",
      "    ret = callback()\n",
      "  File \"/data/hour/miniconda3/lib/python3.8/site-packages/tornado/ioloop.py\", line 764, in _discard_future_result\n",
      "    future.result()\n",
      "  File \"/data/hour/miniconda3/lib/python3.8/site-packages/distributed/nanny.py\", line 931, in _run\n",
      "    loop.run_sync(run)\n",
      "  File \"/data/hour/miniconda3/lib/python3.8/site-packages/tornado/ioloop.py\", line 523, in run_sync\n",
      "    self.start()\n",
      "  File \"/data/hour/miniconda3/lib/python3.8/site-packages/tornado/platform/asyncio.py\", line 215, in start\n",
      "    self.asyncio_loop.run_forever()\n",
      "  File \"/data/hour/miniconda3/lib/python3.8/asyncio/base_events.py\", line 570, in run_forever\n",
      "    self._run_once()\n",
      "  File \"/data/hour/miniconda3/lib/python3.8/asyncio/base_events.py\", line 1859, in _run_once\n",
      "    handle._run()\n",
      "  File \"/data/hour/miniconda3/lib/python3.8/asyncio/events.py\", line 81, in _run\n",
      "    self._context.run(self._callback, *self._args)\n",
      "  File \"/data/hour/miniconda3/lib/python3.8/site-packages/tornado/ioloop.py\", line 921, in _run\n",
      "    val = self.callback()\n",
      "  File \"/data/hour/miniconda3/lib/python3.8/site-packages/distributed/worker.py\", line 3703, in trigger_profile\n",
      "    state = profile.process(\n",
      "  File \"/data/hour/miniconda3/lib/python3.8/site-packages/distributed/profile.py\", line 108, in process\n",
      "    state = process(prev, frame, state, stop=stop)\n",
      "  File \"/data/hour/miniconda3/lib/python3.8/site-packages/distributed/profile.py\", line 108, in process\n",
      "    state = process(prev, frame, state, stop=stop)\n",
      "  File \"/data/hour/miniconda3/lib/python3.8/site-packages/distributed/profile.py\", line 108, in process\n",
      "    state = process(prev, frame, state, stop=stop)\n",
      "  [Previous line repeated 3 more times]\n",
      "  File \"/data/hour/miniconda3/lib/python3.8/site-packages/distributed/profile.py\", line 112, in process\n",
      "    ident = identifier(frame)\n",
      "  File \"/data/hour/miniconda3/lib/python3.8/site-packages/distributed/profile.py\", line 53, in identifier\n",
      "    return \";\".join(\n",
      "KeyboardInterrupt\n",
      "Process Dask Worker process (from Nanny):\n",
      "Traceback (most recent call last):\n",
      "  File \"/data/hour/miniconda3/lib/python3.8/multiprocessing/process.py\", line 315, in _bootstrap\n",
      "    self.run()\n",
      "  File \"/data/hour/miniconda3/lib/python3.8/multiprocessing/process.py\", line 108, in run\n",
      "    self._target(*self._args, **self._kwargs)\n",
      "  File \"/data/hour/miniconda3/lib/python3.8/site-packages/distributed/process.py\", line 175, in _run\n",
      "    target(*args, **kwargs)\n",
      "  File \"/data/hour/miniconda3/lib/python3.8/site-packages/distributed/nanny.py\", line 938, in _run\n",
      "    loop.run_sync(do_stop)\n",
      "  File \"/data/hour/miniconda3/lib/python3.8/site-packages/tornado/ioloop.py\", line 523, in run_sync\n",
      "    self.start()\n",
      "  File \"/data/hour/miniconda3/lib/python3.8/site-packages/tornado/platform/asyncio.py\", line 215, in start\n",
      "    self.asyncio_loop.run_forever()\n",
      "  File \"/data/hour/miniconda3/lib/python3.8/asyncio/base_events.py\", line 570, in run_forever\n",
      "    self._run_once()\n",
      "  File \"/data/hour/miniconda3/lib/python3.8/asyncio/base_events.py\", line 1859, in _run_once\n",
      "    handle._run()\n",
      "  File \"/data/hour/miniconda3/lib/python3.8/asyncio/events.py\", line 81, in _run\n",
      "    self._context.run(self._callback, *self._args)\n",
      "  File \"/data/hour/miniconda3/lib/python3.8/site-packages/tornado/ioloop.py\", line 687, in <lambda>\n",
      "    lambda f: self._run_callback(functools.partial(callback, future))\n",
      "  File \"/data/hour/miniconda3/lib/python3.8/site-packages/tornado/ioloop.py\", line 740, in _run_callback\n",
      "    ret = callback()\n",
      "  File \"/data/hour/miniconda3/lib/python3.8/site-packages/tornado/ioloop.py\", line 764, in _discard_future_result\n",
      "    future.result()\n",
      "  File \"/data/hour/miniconda3/lib/python3.8/site-packages/distributed/nanny.py\", line 931, in _run\n",
      "    loop.run_sync(run)\n",
      "  File \"/data/hour/miniconda3/lib/python3.8/site-packages/tornado/ioloop.py\", line 523, in run_sync\n",
      "    self.start()\n",
      "  File \"/data/hour/miniconda3/lib/python3.8/site-packages/tornado/platform/asyncio.py\", line 215, in start\n",
      "    self.asyncio_loop.run_forever()\n",
      "  File \"/data/hour/miniconda3/lib/python3.8/asyncio/base_events.py\", line 570, in run_forever\n",
      "    self._run_once()\n",
      "  File \"/data/hour/miniconda3/lib/python3.8/asyncio/base_events.py\", line 1859, in _run_once\n",
      "    handle._run()\n",
      "  File \"/data/hour/miniconda3/lib/python3.8/asyncio/events.py\", line 81, in _run\n",
      "    self._context.run(self._callback, *self._args)\n",
      "  File \"/data/hour/miniconda3/lib/python3.8/site-packages/tornado/ioloop.py\", line 927, in _run\n",
      "    self._schedule_next()\n",
      "  File \"/data/hour/miniconda3/lib/python3.8/site-packages/tornado/ioloop.py\", line 932, in _schedule_next\n",
      "    self._timeout = self.io_loop.add_timeout(self._next_timeout, self._run)\n",
      "  File \"/data/hour/miniconda3/lib/python3.8/site-packages/tornado/ioloop.py\", line 577, in add_timeout\n",
      "    if isinstance(deadline, numbers.Real):\n",
      "  File \"/data/hour/miniconda3/lib/python3.8/abc.py\", line 96, in __instancecheck__\n",
      "    def __instancecheck__(cls, instance):\n",
      "KeyboardInterrupt\n",
      "\u001b[0m\u001b[0m"
     ]
    }
   ],
   "source": [
    "!/data/hour/miniconda3/bin/pyscenic grn {f_loom_path_scenic} {f_tfs} -o ./output/t_CD4_Tn-LEF1/adj.csv --num_workers 40"
   ]
  },
  {
   "cell_type": "markdown",
   "id": "93eb117f",
   "metadata": {},
   "source": [
    "##### read in the adjacencies matrix:"
   ]
  },
  {
   "cell_type": "code",
   "execution_count": 5,
   "id": "1414234d",
   "metadata": {},
   "outputs": [],
   "source": [
    "adjacencies = pd.read_csv(\"./output/Naive/adj.csv\", index_col=False, sep=',')"
   ]
  },
  {
   "cell_type": "code",
   "execution_count": 6,
   "id": "c02c9f8a",
   "metadata": {},
   "outputs": [
    {
     "data": {
      "text/html": [
       "<div>\n",
       "<style scoped>\n",
       "    .dataframe tbody tr th:only-of-type {\n",
       "        vertical-align: middle;\n",
       "    }\n",
       "\n",
       "    .dataframe tbody tr th {\n",
       "        vertical-align: top;\n",
       "    }\n",
       "\n",
       "    .dataframe thead th {\n",
       "        text-align: right;\n",
       "    }\n",
       "</style>\n",
       "<table border=\"1\" class=\"dataframe\">\n",
       "  <thead>\n",
       "    <tr style=\"text-align: right;\">\n",
       "      <th></th>\n",
       "      <th>TF</th>\n",
       "      <th>target</th>\n",
       "      <th>importance</th>\n",
       "    </tr>\n",
       "  </thead>\n",
       "  <tbody>\n",
       "    <tr>\n",
       "      <th>0</th>\n",
       "      <td>UBB</td>\n",
       "      <td>HSP90AA1</td>\n",
       "      <td>296.633831</td>\n",
       "    </tr>\n",
       "    <tr>\n",
       "      <th>1</th>\n",
       "      <td>BAX</td>\n",
       "      <td>RPS27L</td>\n",
       "      <td>295.673415</td>\n",
       "    </tr>\n",
       "    <tr>\n",
       "      <th>2</th>\n",
       "      <td>RPS4X</td>\n",
       "      <td>RPS12</td>\n",
       "      <td>259.846347</td>\n",
       "    </tr>\n",
       "    <tr>\n",
       "      <th>3</th>\n",
       "      <td>UBB</td>\n",
       "      <td>DNAJA1</td>\n",
       "      <td>255.957699</td>\n",
       "    </tr>\n",
       "    <tr>\n",
       "      <th>4</th>\n",
       "      <td>UBB</td>\n",
       "      <td>HSPE1</td>\n",
       "      <td>239.062200</td>\n",
       "    </tr>\n",
       "  </tbody>\n",
       "</table>\n",
       "</div>"
      ],
      "text/plain": [
       "      TF    target  importance\n",
       "0    UBB  HSP90AA1  296.633831\n",
       "1    BAX    RPS27L  295.673415\n",
       "2  RPS4X     RPS12  259.846347\n",
       "3    UBB    DNAJA1  255.957699\n",
       "4    UBB     HSPE1  239.062200"
      ]
     },
     "execution_count": 6,
     "metadata": {},
     "output_type": "execute_result"
    }
   ],
   "source": [
    "adjacencies.head()"
   ]
  },
  {
   "cell_type": "markdown",
   "id": "063acb8b",
   "metadata": {},
   "source": [
    "### STEP 2-3: Regulon prediction aka cisTarget from CLI"
   ]
  },
  {
   "cell_type": "code",
   "execution_count": 7,
   "id": "65400912",
   "metadata": {},
   "outputs": [],
   "source": [
    "f_db_names = './data/hg38_10kbp_up_10kbp_down_full_tx_v10_clust.genes_vs_motifs.rankings.feather'\n",
    "# motif databases\n",
    "f_motif_path = './data/motifs-v10nr_clust-nr.hgnc-m0.001-o0.0.tbl'"
   ]
  },
  {
   "cell_type": "code",
   "execution_count": 9,
   "id": "d9a06cbb",
   "metadata": {},
   "outputs": [
    {
     "name": "stdout",
     "output_type": "stream",
     "text": [
      "\n",
      "2022-11-07 19:04:18,140 - pyscenic.cli.pyscenic - INFO - Creating modules.\n",
      "\n",
      "2022-11-07 19:04:18,959 - pyscenic.cli.pyscenic - INFO - Loading expression matrix.\n",
      "\n",
      "2022-11-07 19:04:21,407 - pyscenic.utils - INFO - Calculating Pearson correlations.\n",
      "\n",
      "2022-11-07 19:04:21,889 - pyscenic.utils - WARNING - Note on correlation calculation: the default behaviour for calculating the correlations has changed after pySCENIC verion 0.9.16. Previously, the default was to calculate the correlation between a TF and target gene using only cells with non-zero expression values (mask_dropouts=True). The current default is now to use all cells to match the behavior of the R verision of SCENIC. The original settings can be retained by setting 'rho_mask_dropouts=True' in the modules_from_adjacencies function, or '--mask_dropouts' from the CLI.\n",
      "\tDropout masking is currently set to [True].\n",
      "\n",
      "2022-11-07 19:04:33,988 - pyscenic.utils - INFO - Creating modules.\n",
      "^C\n",
      "Traceback (most recent call last):\n",
      "  File \"/data/hour/miniconda3/bin/pyscenic\", line 8, in <module>\n",
      "    sys.exit(main())\n",
      "  File \"/data/hour/miniconda3/lib/python3.8/site-packages/pyscenic/cli/pyscenic.py\", line 677, in main\n",
      "    args.func(args)\n",
      "  File \"/data/hour/miniconda3/lib/python3.8/site-packages/pyscenic/cli/pyscenic.py\", line 201, in prune_targets_command\n",
      "    modules = adjacencies2modules(args)\n",
      "  File \"/data/hour/miniconda3/lib/python3.8/site-packages/pyscenic/cli/pyscenic.py\", line 131, in adjacencies2modules\n",
      "    return modules_from_adjacencies(\n",
      "  File \"/data/hour/miniconda3/lib/python3.8/site-packages/pyscenic/utils.py\", line 329, in modules_from_adjacencies\n",
      "    return list(filter(lambda m: len(m) >= min_genes, map(add_tf, modules_iter)))\n",
      "  File \"/data/hour/miniconda3/lib/python3.8/site-packages/pyscenic/utils.py\", line 264, in iter_modules\n",
      "    yield from chain(\n",
      "  File \"/data/hour/miniconda3/lib/python3.8/site-packages/pyscenic/utils.py\", line 203, in modules4top_factors\n",
      "    df = adjacencies.groupby(by=COLUMN_NAME_TARGET).apply(lambda grp: grp.nlargest(n, COLUMN_NAME_WEIGHT))\n",
      "  File \"/data/hour/miniconda3/lib/python3.8/site-packages/pandas/core/groupby/groupby.py\", line 1423, in apply\n",
      "    result = self._python_apply_general(f, self._selected_obj)\n",
      "  File \"/data/hour/miniconda3/lib/python3.8/site-packages/pandas/core/groupby/groupby.py\", line 1469, in _python_apply_general\n",
      "    return self._wrap_applied_output(\n",
      "  File \"/data/hour/miniconda3/lib/python3.8/site-packages/pandas/core/groupby/generic.py\", line 1007, in _wrap_applied_output\n",
      "    return self._concat_objects(values, not_indexed_same=not_indexed_same)\n",
      "  File \"/data/hour/miniconda3/lib/python3.8/site-packages/pandas/core/groupby/groupby.py\", line 1058, in _concat_objects\n",
      "    result = concat(\n",
      "  File \"/data/hour/miniconda3/lib/python3.8/site-packages/pandas/util/_decorators.py\", line 311, in wrapper\n",
      "    return func(*args, **kwargs)\n",
      "  File \"/data/hour/miniconda3/lib/python3.8/site-packages/pandas/core/reshape/concat.py\", line 347, in concat\n",
      "    op = _Concatenator(\n",
      "  File \"/data/hour/miniconda3/lib/python3.8/site-packages/pandas/core/reshape/concat.py\", line 542, in __init__\n",
      "    self.new_axes = self._get_new_axes()\n",
      "  File \"/data/hour/miniconda3/lib/python3.8/site-packages/pandas/core/reshape/concat.py\", line 612, in _get_new_axes\n",
      "    return [\n",
      "  File \"/data/hour/miniconda3/lib/python3.8/site-packages/pandas/core/reshape/concat.py\", line 613, in <listcomp>\n",
      "    self._get_concat_axis if i == self.bm_axis else self._get_comb_axis(i)\n",
      "  File \"pandas/_libs/properties.pyx\", line 37, in pandas._libs.properties.CachedProperty.__get__\n",
      "  File \"/data/hour/miniconda3/lib/python3.8/site-packages/pandas/core/reshape/concat.py\", line 670, in _get_concat_axis\n",
      "    concat_axis = _make_concat_multiindex(\n",
      "  File \"/data/hour/miniconda3/lib/python3.8/site-packages/pandas/core/reshape/concat.py\", line 722, in _make_concat_multiindex\n",
      "    mask = (isna(level) & isna(key)) | (level == key)\n",
      "  File \"/data/hour/miniconda3/lib/python3.8/site-packages/pandas/core/ops/common.py\", line 70, in new_method\n",
      "    return method(self, other)\n",
      "  File \"/data/hour/miniconda3/lib/python3.8/site-packages/pandas/core/arraylike.py\", line 40, in __eq__\n",
      "    return self._cmp_method(other, operator.eq)\n",
      "  File \"/data/hour/miniconda3/lib/python3.8/site-packages/pandas/core/indexes/base.py\", line 6707, in _cmp_method\n",
      "    result = ops.comp_method_OBJECT_ARRAY(op, self._values, other)\n",
      "  File \"/data/hour/miniconda3/lib/python3.8/site-packages/pandas/core/ops/array_ops.py\", line 73, in comp_method_OBJECT_ARRAY\n",
      "    result = libops.scalar_compare(x.ravel(), y, op)\n",
      "KeyboardInterrupt\n",
      "\u001b[0m"
     ]
    }
   ],
   "source": [
    "!/data/hour/miniconda3/bin/pyscenic ctx ./output/Naive/adj.csv \\\n",
    "    {f_db_names} \\\n",
    "    --annotations_fname {f_motif_path} \\\n",
    "    --expression_mtx_fname {f_loom_path_scenic} \\\n",
    "    --output ./output/Naive/reg.csv \\\n",
    "    --mask_dropouts \\\n",
    "    --num_workers 40"
   ]
  },
  {
   "cell_type": "markdown",
   "id": "799e4e9b",
   "metadata": {},
   "source": [
    "### STEP 4: Cellular enrichment (aka AUCell) from CLI"
   ]
  },
  {
   "cell_type": "code",
   "execution_count": 65,
   "id": "2f246ac6",
   "metadata": {},
   "outputs": [
    {
     "name": "stdout",
     "output_type": "stream",
     "text": [
      "\n",
      "2022-10-23 17:43:30,837 - pyscenic.cli.pyscenic - INFO - Loading expression matrix.\n",
      "\n",
      "2022-10-23 17:43:30,898 - pyscenic.cli.pyscenic - INFO - Loading gene signatures.\n",
      "Create regulons from a dataframe of enriched features.\n",
      "Additional columns saved: []\n",
      "\n",
      "2022-10-23 17:43:31,227 - pyscenic.cli.pyscenic - INFO - Calculating cellular enrichment.\n",
      "\n",
      "2022-10-23 17:43:35,382 - pyscenic.cli.pyscenic - INFO - Writing results to file.\n",
      "\u001b[0m"
     ]
    }
   ],
   "source": [
    "!/data/hour/miniconda3/bin/pyscenic aucell \\\n",
    "    {f_loom_path_scenic} \\\n",
    "    ./output/t_mDC-LAMP3/reg.csv \\\n",
    "    --output {'./output/t_mDC-LAMP3/pyscenic_output.loom'} \\\n",
    "    --num_workers 40"
   ]
  },
  {
   "cell_type": "code",
   "execution_count": null,
   "id": "18524565",
   "metadata": {},
   "outputs": [],
   "source": []
  }
 ],
 "metadata": {
  "kernelspec": {
   "display_name": "Python 3 (ipykernel)",
   "language": "python",
   "name": "python3"
  },
  "language_info": {
   "codemirror_mode": {
    "name": "ipython",
    "version": 3
   },
   "file_extension": ".py",
   "mimetype": "text/x-python",
   "name": "python",
   "nbconvert_exporter": "python",
   "pygments_lexer": "ipython3",
   "version": "3.8.13"
  }
 },
 "nbformat": 4,
 "nbformat_minor": 5
}
