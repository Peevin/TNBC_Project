{
 "cells": [
  {
   "cell_type": "code",
   "execution_count": null,
   "id": "7df74291",
   "metadata": {},
   "outputs": [],
   "source": [
    "import pandas as pd\n",
    "import os"
   ]
  },
  {
   "cell_type": "markdown",
   "id": "e6f52c6f",
   "metadata": {},
   "source": [
    "# Scenic Steps"
   ]
  },
  {
   "cell_type": "markdown",
   "id": "38fee42e",
   "metadata": {},
   "source": [
    "### STEP 1: Gene regulatory network inference, and generation of co-expression modules"
   ]
  },
  {
   "cell_type": "code",
   "execution_count": null,
   "id": "5e6390b6",
   "metadata": {},
   "outputs": [],
   "source": [
    "celltype = pd.read_csv('../../Sujw/GSE189357/GSE189357_celltype.csv',index_col=0)\n",
    "celltype"
   ]
  },
  {
   "cell_type": "code",
   "execution_count": null,
   "id": "424d2a7d",
   "metadata": {},
   "outputs": [],
   "source": [
    "cluster = pd.unique(celltype['Major_cell_type'])\n",
    "cluster"
   ]
  },
  {
   "cell_type": "code",
   "execution_count": null,
   "id": "0f841145",
   "metadata": {},
   "outputs": [],
   "source": [
    "# transcription factors list\n",
    "f_tfs = \"./data/Scenic_data/allTFs_hg38.txt\" # human"
   ]
  },
  {
   "cell_type": "code",
   "execution_count": null,
   "id": "b8f01b2a",
   "metadata": {},
   "outputs": [],
   "source": [
    "\n",
    "print('./data/%s_scenic.loom' % (subcluster))"
   ]
  },
  {
   "cell_type": "code",
   "execution_count": null,
   "id": "bf2d297c",
   "metadata": {
    "scrolled": true
   },
   "outputs": [],
   "source": [
    "\n",
    "for subcluster in cluster:\n",
    "    # gene expression matrix directory\n",
    "    f_loom_path_scenic = './data/%s_scenic.loom' % (subcluster)\n",
    "    os.makedirs('./output/'+subcluster,exist_ok=True)\n",
    "    \n",
    "    cmd =\"/data/hour/miniconda3/bin/pyscenic grn '%s' %s -o './output/%s/adj.csv' \\\n",
    "        --num_workers 20\" % (f_loom_path_scenic, f_tfs, subcluster)\n",
    "    print(cmd)\n",
    "    os.system(cmd)"
   ]
  },
  {
   "cell_type": "markdown",
   "id": "96a671d2",
   "metadata": {},
   "source": [
    "### STEP 2-3: Regulon prediction aka cisTarget from CLI"
   ]
  },
  {
   "cell_type": "code",
   "execution_count": null,
   "id": "1553ddea",
   "metadata": {},
   "outputs": [],
   "source": [
    "f_db_names = './data/Scenic_data/hg38_10kbp_up_10kbp_down_full_tx_v10_clust.genes_vs_motifs.rankings.feather'\n",
    "# motif databases\n",
    "f_motif_path = './data/Scenic_data/motifs-v10nr_clust-nr.hgnc-m0.001-o0.0.tbl'"
   ]
  },
  {
   "cell_type": "code",
   "execution_count": null,
   "id": "7d82953d",
   "metadata": {
    "scrolled": true
   },
   "outputs": [],
   "source": [
    "\n",
    "for subcluster in cluster:\n",
    "    f_loom_path_scenic = \"./data/%s_scenic.loom\" % (subcluster)\n",
    "\n",
    "    cmd = \"/data/hour/miniconda3/bin/pyscenic ctx './output/%s/adj.csv' \\\n",
    "    %s \\\n",
    "    --annotations_fname %s \\\n",
    "    --expression_mtx_fname '%s' \\\n",
    "    --output './output/%s/reg.csv' \\\n",
    "    --mask_dropouts \\\n",
    "    --num_workers 20\" % (subcluster,f_db_names,f_motif_path,f_loom_path_scenic,subcluster)\n",
    "    \n",
    "    print(cmd)\n",
    "    os.system(cmd)\n"
   ]
  },
  {
   "cell_type": "markdown",
   "id": "12a4c77c",
   "metadata": {},
   "source": [
    "### STEP 4: Cellular enrichment (aka AUCell) from CLI"
   ]
  },
  {
   "cell_type": "code",
   "execution_count": null,
   "id": "b05da298",
   "metadata": {
    "scrolled": true
   },
   "outputs": [],
   "source": [
    "for subcluster in cluster:\n",
    "    \n",
    "    f_loom_path_scenic = \"./data/%s_scenic.loom\" % (subcluster)\n",
    "    \n",
    "    cmd = \"/data/hour/miniconda3/bin/pyscenic aucell \\\n",
    "    '%s' \\\n",
    "    './output/%s/reg.csv' \\\n",
    "    --output './output/%s/pyscenic_output.loom' \\\n",
    "    --num_workers 1\" % (f_loom_path_scenic,subcluster,subcluster)\n",
    "    print(cmd)\n",
    "    os.system(cmd)\n",
    "    \n"
   ]
  },
  {
   "cell_type": "code",
   "execution_count": null,
   "id": "a99bb7fd",
   "metadata": {},
   "outputs": [],
   "source": []
  }
 ],
 "metadata": {
  "kernelspec": {
   "display_name": "Python 3 (ipykernel)",
   "language": "python",
   "name": "python3"
  },
  "language_info": {
   "codemirror_mode": {
    "name": "ipython",
    "version": 3
   },
   "file_extension": ".py",
   "mimetype": "text/x-python",
   "name": "python",
   "nbconvert_exporter": "python",
   "pygments_lexer": "ipython3",
   "version": "3.8.13"
  }
 },
 "nbformat": 4,
 "nbformat_minor": 5
}
