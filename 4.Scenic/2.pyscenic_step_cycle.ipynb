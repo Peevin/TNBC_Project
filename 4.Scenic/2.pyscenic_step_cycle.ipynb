{
 "cells": [
  {
   "cell_type": "code",
   "execution_count": null,
   "id": "c058a4e0",
   "metadata": {},
   "outputs": [],
   "source": [
    "import pandas as pd\n",
    "import os"
   ]
  },
  {
   "cell_type": "markdown",
   "id": "3edb3bbb",
   "metadata": {},
   "source": [
    "# SCENIC steps"
   ]
  },
  {
   "cell_type": "markdown",
   "id": "6ba4b21a",
   "metadata": {},
   "source": [
    "### STEP 1: Gene regulatory network inference, and generation of co-expression modules"
   ]
  },
  {
   "cell_type": "code",
   "execution_count": null,
   "id": "17cb527c",
   "metadata": {},
   "outputs": [],
   "source": [
    "cluster = [\n",
    "    't_CD4-CXCL13', 't_CD4_Tcm-LMNA', 't_CD4_Tn-LEF1',\n",
    "       't_CD4_Treg-FOXP3', 't_CD8_MAIT-KLRB1',\n",
    "           't_CD8_Tem-GZMK', 't_CD8_Trm-ZNF683', 't_Tact-XIST',\n",
    "    't_Bmem-CD27','t_pB-IGHG1','t_macro-MMP9'\n",
    "]"
   ]
  },
  {
   "cell_type": "code",
   "execution_count": null,
   "id": "98bd3b54",
   "metadata": {},
   "outputs": [],
   "source": [
    "# transcription factors list\n",
    "f_tfs = \"./data/allTFs_hg38.txt\" # human"
   ]
  },
  {
   "cell_type": "code",
   "execution_count": null,
   "id": "a89453ff",
   "metadata": {},
   "outputs": [],
   "source": [
    "for subcluster in cluster:\n",
    "    # gene expression matrix directory\n",
    "    f_loom_path_scenic = './data/' + subcluster + '_scenic.loom'\n",
    "    os.mkdir('./output/'+subcluster)\n",
    "    !/data/hour/miniconda3/bin/pyscenic grn {f_loom_path_scenic} {f_tfs} -o ./output/{subcluster}/adj.csv --num_workers 20\n",
    "    \n",
    "\n",
    "    "
   ]
  },
  {
   "cell_type": "code",
   "execution_count": null,
   "id": "ed9efc0b",
   "metadata": {},
   "outputs": [],
   "source": [
    "f_db_names = './data/hg38_10kbp_up_10kbp_down_full_tx_v10_clust.genes_vs_motifs.rankings.feather'\n",
    "# motif databases\n",
    "f_motif_path = './data/motifs-v10nr_clust-nr.hgnc-m0.001-o0.0.tbl'"
   ]
  },
  {
   "cell_type": "code",
   "execution_count": null,
   "id": "25f81a90",
   "metadata": {},
   "outputs": [],
   "source": [
    "for subcluster in cluster:\n",
    "    f_loom_path_scenic = './data/' + subcluster + '_scenic.loom'\n",
    "    !/data/hour/miniconda3/bin/pyscenic ctx ./output/{subcluster}/adj.csv \\\n",
    "    {f_db_names} \\\n",
    "    --annotations_fname {f_motif_path} \\\n",
    "    --expression_mtx_fname {f_loom_path_scenic} \\\n",
    "    --output ./output/{subcluster}/reg.csv \\\n",
    "    --mask_dropouts \\\n",
    "    --num_workers 20\n"
   ]
  },
  {
   "cell_type": "code",
   "execution_count": null,
   "id": "8843a42f",
   "metadata": {},
   "outputs": [],
   "source": [
    "for subcluster in cluster:\n",
    "    f_loom_path_scenic = './data/' + subcluster + '_scenic.loom'\n",
    "    \n",
    "    !/data/hour/miniconda3/bin/pyscenic aucell \\\n",
    "    {f_loom_path_scenic} \\\n",
    "    ./output/{subcluster}/reg.csv \\\n",
    "    --output {'./output/'+subcluster+'/pyscenic_output.loom'} \\\n",
    "    --num_workers 1"
   ]
  },
  {
   "cell_type": "code",
   "execution_count": null,
   "id": "c5ff63d1",
   "metadata": {},
   "outputs": [],
   "source": []
  },
  {
   "cell_type": "code",
   "execution_count": null,
   "id": "dd7c8ec7",
   "metadata": {},
   "outputs": [],
   "source": [
    "# gene expression matrix directory\n",
    "f_loom_path_scenic = './data/' + subcluster + '_scenic.loom'"
   ]
  },
  {
   "cell_type": "code",
   "execution_count": null,
   "id": "cc444b9e",
   "metadata": {
    "scrolled": true
   },
   "outputs": [],
   "source": [
    "!/data/hour/miniconda3/bin/pyscenic grn {f_loom_path_scenic} {f_tfs} -o ./output/t_CD4_Tn-LEF1/adj.csv --num_workers 40"
   ]
  },
  {
   "cell_type": "markdown",
   "id": "93eb117f",
   "metadata": {},
   "source": [
    "##### read in the adjacencies matrix:"
   ]
  },
  {
   "cell_type": "code",
   "execution_count": null,
   "id": "1414234d",
   "metadata": {},
   "outputs": [],
   "source": [
    "adjacencies = pd.read_csv(\"./output/Naive/adj.csv\", index_col=False, sep=',')"
   ]
  },
  {
   "cell_type": "code",
   "execution_count": null,
   "id": "c02c9f8a",
   "metadata": {},
   "outputs": [],
   "source": [
    "adjacencies.head()"
   ]
  },
  {
   "cell_type": "markdown",
   "id": "063acb8b",
   "metadata": {},
   "source": [
    "### STEP 2-3: Regulon prediction aka cisTarget from CLI"
   ]
  },
  {
   "cell_type": "code",
   "execution_count": null,
   "id": "65400912",
   "metadata": {},
   "outputs": [],
   "source": [
    "f_db_names = './data/hg38_10kbp_up_10kbp_down_full_tx_v10_clust.genes_vs_motifs.rankings.feather'\n",
    "# motif databases\n",
    "f_motif_path = './data/motifs-v10nr_clust-nr.hgnc-m0.001-o0.0.tbl'"
   ]
  },
  {
   "cell_type": "code",
   "execution_count": null,
   "id": "d9a06cbb",
   "metadata": {},
   "outputs": [],
   "source": [
    "!/data/hour/miniconda3/bin/pyscenic ctx ./output/Naive/adj.csv \\\n",
    "    {f_db_names} \\\n",
    "    --annotations_fname {f_motif_path} \\\n",
    "    --expression_mtx_fname {f_loom_path_scenic} \\\n",
    "    --output ./output/Naive/reg.csv \\\n",
    "    --mask_dropouts \\\n",
    "    --num_workers 40"
   ]
  },
  {
   "cell_type": "markdown",
   "id": "799e4e9b",
   "metadata": {},
   "source": [
    "### STEP 4: Cellular enrichment (aka AUCell) from CLI"
   ]
  },
  {
   "cell_type": "code",
   "execution_count": null,
   "id": "2f246ac6",
   "metadata": {},
   "outputs": [],
   "source": [
    "!/data/hour/miniconda3/bin/pyscenic aucell \\\n",
    "    {f_loom_path_scenic} \\\n",
    "    ./output/t_mDC-LAMP3/reg.csv \\\n",
    "    --output {'./output/t_mDC-LAMP3/pyscenic_output.loom'} \\\n",
    "    --num_workers 40"
   ]
  },
  {
   "cell_type": "code",
   "execution_count": null,
   "id": "18524565",
   "metadata": {},
   "outputs": [],
   "source": []
  }
 ],
 "metadata": {
  "kernelspec": {
   "display_name": "Python 3 (ipykernel)",
   "language": "python",
   "name": "python3"
  },
  "language_info": {
   "codemirror_mode": {
    "name": "ipython",
    "version": 3
   },
   "file_extension": ".py",
   "mimetype": "text/x-python",
   "name": "python",
   "nbconvert_exporter": "python",
   "pygments_lexer": "ipython3",
   "version": "3.8.13"
  }
 },
 "nbformat": 4,
 "nbformat_minor": 5
}
