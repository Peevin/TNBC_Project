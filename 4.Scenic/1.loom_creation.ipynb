{
 "cells": [
  {
   "cell_type": "code",
   "execution_count": 1,
   "id": "3516df08",
   "metadata": {},
   "outputs": [
    {
     "name": "stderr",
     "output_type": "stream",
     "text": [
      "/data/hour/miniconda3/lib/python3.8/site-packages/numba/core/cpu.py:97: UserWarning: Numba extension module 'sparse._numba_extension' failed to load due to 'ContextualVersionConflict((numpy 1.22.4 (/data/hour/miniconda3/lib/python3.8/site-packages), Requirement.parse('numpy<1.22,>=1.18'), {'numba'}))'.\n",
      "  numba.core.entrypoints.init_all()\n"
     ]
    }
   ],
   "source": [
    "import numpy as np\n",
    "import pandas as pd\n",
    "import scanpy as sc\n",
    "import anndata as ad\n",
    "import os\n",
    "import loompy as lp"
   ]
  },
  {
   "cell_type": "code",
   "execution_count": 2,
   "id": "317e6732",
   "metadata": {},
   "outputs": [],
   "source": [
    "#读取含有注释信息的细胞数据\n",
    "data = sc.read_h5ad('../TNBC_Zhang/data/Tcell_PDL1.h5ad')"
   ]
  },
  {
   "cell_type": "code",
   "execution_count": 3,
   "id": "989473bb",
   "metadata": {},
   "outputs": [
    {
     "data": {
      "text/plain": [
       "array(['t_CD4-CXCL13', 't_CD4_Tcm-LMNA', 't_CD4_Tn-LEF1',\n",
       "       't_CD4_Treg-FOXP3', 't_CD8-CXCL13', 't_CD8_MAIT-KLRB1',\n",
       "       't_CD8_Teff-GNLY', 't_CD8_Tem-GZMK', 't_CD8_Trm-ZNF683',\n",
       "       't_Tact-IFI6', 't_Tact-XIST', 't_Tprf-MKI67'], dtype=object)"
      ]
     },
     "execution_count": 3,
     "metadata": {},
     "output_type": "execute_result"
    }
   ],
   "source": [
    "np.unique(data.obs.Sub_Cluster)"
   ]
  },
  {
   "cell_type": "code",
   "execution_count": 4,
   "id": "82587515",
   "metadata": {},
   "outputs": [],
   "source": [
    "cluster = ['t_CD4-CXCL13', 't_CD4_Tcm-LMNA', 't_CD4_Tn-LEF1',\n",
    "       't_CD4_Treg-FOXP3', 't_CD8_MAIT-KLRB1',\n",
    "           't_CD8_Tem-GZMK', 't_CD8_Trm-ZNF683', 't_Tact-XIST']"
   ]
  },
  {
   "cell_type": "code",
   "execution_count": 5,
   "id": "16370091",
   "metadata": {},
   "outputs": [],
   "source": [
    "for i in cluster:\n",
    "    adata = data[data.obs['Sub_Cluster']==i]\n",
    "    row_attrs = { \n",
    "    \"Gene\": np.array(adata.var.index) ,\n",
    "    }\n",
    "    col_attrs = { \n",
    "    \"CellID\":  np.array(adata.obs.index) ,\n",
    "    }\n",
    "\n",
    "    lp.create( './data/' + i + '_scenic.loom', adata.X.transpose(), row_attrs, col_attrs )"
   ]
  },
  {
   "cell_type": "code",
   "execution_count": 13,
   "id": "35542290",
   "metadata": {},
   "outputs": [],
   "source": [
    "data = sc.read_h5ad('../TNBC_Zhang/data/Myeloid_PDL1.h5ad')"
   ]
  },
  {
   "cell_type": "code",
   "execution_count": 14,
   "id": "dfcc1370",
   "metadata": {},
   "outputs": [],
   "source": [
    "cluster = ['t_macro-MMP9']"
   ]
  },
  {
   "cell_type": "code",
   "execution_count": 15,
   "id": "e652da18",
   "metadata": {},
   "outputs": [],
   "source": [
    "for i in cluster:\n",
    "    adata = data[data.obs['Sub_Cluster']==i]\n",
    "    row_attrs = { \n",
    "    \"Gene\": np.array(adata.var.index) ,\n",
    "    }\n",
    "    col_attrs = { \n",
    "    \"CellID\":  np.array(adata.obs.index) ,\n",
    "    }\n",
    "\n",
    "    lp.create( './data/' + i + '_scenic.loom', adata.X.transpose(), row_attrs, col_attrs )"
   ]
  },
  {
   "cell_type": "code",
   "execution_count": null,
   "id": "03990df1",
   "metadata": {},
   "outputs": [],
   "source": []
  }
 ],
 "metadata": {
  "kernelspec": {
   "display_name": "Python 3 (ipykernel)",
   "language": "python",
   "name": "python3"
  },
  "language_info": {
   "codemirror_mode": {
    "name": "ipython",
    "version": 3
   },
   "file_extension": ".py",
   "mimetype": "text/x-python",
   "name": "python",
   "nbconvert_exporter": "python",
   "pygments_lexer": "ipython3",
   "version": "3.8.13"
  }
 },
 "nbformat": 4,
 "nbformat_minor": 5
}
