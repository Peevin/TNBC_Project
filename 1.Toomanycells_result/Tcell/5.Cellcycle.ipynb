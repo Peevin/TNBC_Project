{
 "cells": [
  {
   "cell_type": "code",
   "execution_count": 1,
   "id": "756ceedb",
   "metadata": {},
   "outputs": [],
   "source": [
    "import scanpy as sc\n",
    "import pandas as pd\n",
    "import numpy as np"
   ]
  },
  {
   "cell_type": "code",
   "execution_count": 2,
   "id": "402ff321",
   "metadata": {},
   "outputs": [],
   "source": [
    "adata = sc.read_h5ad('./data/Tcell_PDL1.h5ad')"
   ]
  },
  {
   "cell_type": "code",
   "execution_count": 3,
   "id": "55a91c7a",
   "metadata": {},
   "outputs": [
    {
     "data": {
      "text/plain": [
       "array(['t_CD4-CXCL13', 't_CD4_Tcm-LMNA', 't_CD4_Tn-LEF1',\n",
       "       't_CD4_Treg-FOXP3', 't_CD8-CXCL13', 't_CD8_MAIT-KLRB1',\n",
       "       't_CD8_Teff-GNLY', 't_CD8_Tem-GZMK', 't_CD8_Trm-ZNF683',\n",
       "       't_Tact-IFI6', 't_Tact-XIST', 't_Tprf-MKI67'], dtype=object)"
      ]
     },
     "execution_count": 3,
     "metadata": {},
     "output_type": "execute_result"
    }
   ],
   "source": [
    "np.unique(adata.obs['Sub_Cluster'])"
   ]
  },
  {
   "cell_type": "code",
   "execution_count": 4,
   "id": "1db9bd4c",
   "metadata": {},
   "outputs": [
    {
     "data": {
      "text/plain": [
       "['MCM5',\n",
       " 'PCNA',\n",
       " 'TYMS',\n",
       " 'FEN1',\n",
       " 'MCM2',\n",
       " 'MCM4',\n",
       " 'RRM1',\n",
       " 'UNG',\n",
       " 'GINS2',\n",
       " 'MCM6',\n",
       " 'CDCA7',\n",
       " 'DTL',\n",
       " 'PRIM1',\n",
       " 'UHRF1',\n",
       " 'MLF1IP',\n",
       " 'HELLS',\n",
       " 'RFC2',\n",
       " 'RPA2',\n",
       " 'NASP',\n",
       " 'RAD51AP1',\n",
       " 'GMNN',\n",
       " 'WDR76',\n",
       " 'SLBP',\n",
       " 'CCNE2',\n",
       " 'UBR7',\n",
       " 'POLD3',\n",
       " 'MSH2',\n",
       " 'ATAD2',\n",
       " 'RAD51',\n",
       " 'RRM2',\n",
       " 'CDC45',\n",
       " 'CDC6',\n",
       " 'EXO1',\n",
       " 'TIPIN',\n",
       " 'DSCC1',\n",
       " 'BLM',\n",
       " 'CASP8AP2',\n",
       " 'USP1',\n",
       " 'CLSPN',\n",
       " 'POLA1',\n",
       " 'CHAF1B',\n",
       " 'BRIP1',\n",
       " 'E2F8',\n",
       " 'HMGB2',\n",
       " 'CDK1',\n",
       " 'NUSAP1',\n",
       " 'UBE2C',\n",
       " 'BIRC5',\n",
       " 'TPX2',\n",
       " 'TOP2A',\n",
       " 'NDC80',\n",
       " 'CKS2',\n",
       " 'NUF2',\n",
       " 'CKS1B',\n",
       " 'MKI67',\n",
       " 'TMPO',\n",
       " 'CENPF',\n",
       " 'TACC3',\n",
       " 'FAM64A',\n",
       " 'SMC4',\n",
       " 'CCNB2',\n",
       " 'CKAP2L',\n",
       " 'CKAP2',\n",
       " 'AURKB',\n",
       " 'BUB1',\n",
       " 'KIF11',\n",
       " 'ANP32E',\n",
       " 'TUBB4B',\n",
       " 'GTSE1',\n",
       " 'KIF20B',\n",
       " 'HJURP',\n",
       " 'CDCA3',\n",
       " 'HN1',\n",
       " 'CDC20',\n",
       " 'TTK',\n",
       " 'CDC25C',\n",
       " 'KIF2C',\n",
       " 'RANGAP1',\n",
       " 'NCAPD2',\n",
       " 'DLGAP5',\n",
       " 'CDCA2',\n",
       " 'CDCA8',\n",
       " 'ECT2',\n",
       " 'KIF23',\n",
       " 'HMMR',\n",
       " 'AURKA',\n",
       " 'PSRC1',\n",
       " 'ANLN',\n",
       " 'LBR',\n",
       " 'CKAP5',\n",
       " 'CENPE',\n",
       " 'CTCF',\n",
       " 'NEK2',\n",
       " 'G2E3',\n",
       " 'GAS2L3',\n",
       " 'CBX5',\n",
       " 'CENPA']"
      ]
     },
     "execution_count": 4,
     "metadata": {},
     "output_type": "execute_result"
    }
   ],
   "source": [
    "cell_cycle_genes = [x.strip() for x in open('./data/cell_cycle_vignette_files/regev_lab_cell_cycle_genes.txt')]\n",
    "cell_cycle_genes"
   ]
  },
  {
   "cell_type": "code",
   "execution_count": 5,
   "id": "b9a4d188",
   "metadata": {},
   "outputs": [],
   "source": [
    "s_genes = cell_cycle_genes[:43]\n",
    "g2m_genes = cell_cycle_genes[43:]\n",
    "cell_cycle_genes = [x for x in cell_cycle_genes if x in adata.var_names]"
   ]
  },
  {
   "cell_type": "code",
   "execution_count": 6,
   "id": "1c6be6bc",
   "metadata": {},
   "outputs": [],
   "source": [
    "sc.pp.normalize_total(adata, target_sum=1e6)"
   ]
  },
  {
   "cell_type": "code",
   "execution_count": 7,
   "id": "5e979417",
   "metadata": {},
   "outputs": [],
   "source": [
    "sc.pp.log1p(adata)\n",
    "sc.pp.scale(adata)"
   ]
  },
  {
   "cell_type": "code",
   "execution_count": 8,
   "id": "f3f4f54f",
   "metadata": {},
   "outputs": [
    {
     "name": "stdout",
     "output_type": "stream",
     "text": [
      "WARNING: genes are not in var_names and ignored: ['MLF1IP']\n",
      "WARNING: genes are not in var_names and ignored: ['FAM64A', 'HN1']\n"
     ]
    },
    {
     "name": "stderr",
     "output_type": "stream",
     "text": [
      "/Users/liupeiwen/python/anaconda3/lib/python3.8/site-packages/scanpy/tools/_score_genes.py:151: FutureWarning: Passing a set as an indexer is deprecated and will raise in a future version. Use a list instead.\n",
      "  for cut in np.unique(obs_cut.loc[gene_list]):\n",
      "/Users/liupeiwen/python/anaconda3/lib/python3.8/site-packages/scanpy/tools/_score_genes.py:151: FutureWarning: Passing a set as an indexer is deprecated and will raise in a future version. Use a list instead.\n",
      "  for cut in np.unique(obs_cut.loc[gene_list]):\n"
     ]
    }
   ],
   "source": [
    "sc.tl.score_genes_cell_cycle(adata, s_genes=s_genes, g2m_genes=g2m_genes)\n"
   ]
  },
  {
   "cell_type": "code",
   "execution_count": 10,
   "id": "ecad57b8",
   "metadata": {},
   "outputs": [],
   "source": [
    "adata.obs[['phase']].to_csv('./data/cellcycle_phase.csv',index=True,header=True)"
   ]
  },
  {
   "cell_type": "code",
   "execution_count": 23,
   "id": "b2f491a7",
   "metadata": {},
   "outputs": [],
   "source": [
    "for i in np.unique(adata.obs['Sub_Cluster']):\n",
    "    ann = pd.read_csv('./result/cluster/'+i+'_cluster.csv',\n",
    "                  index_col=0,header=0,sep=',',\n",
    "                 usecols=['cell','cluster'])\n",
    "    data = adata[adata.obs['Sub_Cluster']==i]\n",
    "    data.obs = data.obs.join(ann)\n",
    "    response = data.obs[['cluster','phase']]\n",
    "    response.to_csv('./data/Cellcycle_count/'+i+'_cellcycle_count.csv',header=True,index=True)"
   ]
  },
  {
   "cell_type": "code",
   "execution_count": 8,
   "id": "84c4a8f3",
   "metadata": {},
   "outputs": [],
   "source": [
    "adata.obs['item'] = adata.obs.index"
   ]
  },
  {
   "cell_type": "code",
   "execution_count": 9,
   "id": "884a8361",
   "metadata": {},
   "outputs": [],
   "source": [
    "adata.obs.index = adata.obs['item']"
   ]
  },
  {
   "cell_type": "code",
   "execution_count": 10,
   "id": "729bf915",
   "metadata": {},
   "outputs": [
    {
     "data": {
      "text/plain": [
       "array(['G1', 'G2M', 'S'], dtype=object)"
      ]
     },
     "execution_count": 10,
     "metadata": {},
     "output_type": "execute_result"
    }
   ],
   "source": [
    "adata.obs.rename(columns={'phase':'label'},inplace=True)\n",
    "np.unique(adata.obs['label'])"
   ]
  },
  {
   "cell_type": "code",
   "execution_count": 11,
   "id": "2fd9bbd4",
   "metadata": {},
   "outputs": [],
   "source": [
    "for i in np.unique(adata.obs['Sub_Cluster']) :\n",
    "    response = adata[adata.obs['Sub_Cluster']==i].obs[['label']]\n",
    "    response.to_csv('./data/'+i+'_cycle.csv',header=True, index=True, sep=',')"
   ]
  }
 ],
 "metadata": {
  "kernelspec": {
   "display_name": "Python 3 (ipykernel)",
   "language": "python",
   "name": "python3"
  },
  "language_info": {
   "codemirror_mode": {
    "name": "ipython",
    "version": 3
   },
   "file_extension": ".py",
   "mimetype": "text/x-python",
   "name": "python",
   "nbconvert_exporter": "python",
   "pygments_lexer": "ipython3",
   "version": "3.8.13"
  }
 },
 "nbformat": 4,
 "nbformat_minor": 5
}
