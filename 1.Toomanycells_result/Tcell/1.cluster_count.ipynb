{
 "cells": [
  {
   "cell_type": "code",
   "execution_count": 1,
   "id": "b32593fa",
   "metadata": {},
   "outputs": [],
   "source": [
    "import scanpy as sc \n",
    "import numpy as np\n",
    "import pandas as pd"
   ]
  },
  {
   "cell_type": "code",
   "execution_count": 2,
   "id": "e8deaadb",
   "metadata": {},
   "outputs": [],
   "source": [
    "adata = sc.read_h5ad('./data/Tcell_PDL1.h5ad')"
   ]
  },
  {
   "cell_type": "code",
   "execution_count": 3,
   "id": "8922e87c",
   "metadata": {},
   "outputs": [
    {
     "data": {
      "text/plain": [
       "array(['t_CD4-CXCL13', 't_CD4_Tcm-LMNA', 't_CD4_Tn-LEF1',\n",
       "       't_CD4_Treg-FOXP3', 't_CD8-CXCL13', 't_CD8_MAIT-KLRB1',\n",
       "       't_CD8_Teff-GNLY', 't_CD8_Tem-GZMK', 't_CD8_Trm-ZNF683',\n",
       "       't_Tact-IFI6', 't_Tact-XIST', 't_Tprf-MKI67'], dtype=object)"
      ]
     },
     "execution_count": 3,
     "metadata": {},
     "output_type": "execute_result"
    }
   ],
   "source": [
    "cluster = np.unique(adata.obs['Sub_Cluster'])\n",
    "cluster"
   ]
  },
  {
   "cell_type": "code",
   "execution_count": 4,
   "id": "33e39a33",
   "metadata": {},
   "outputs": [],
   "source": [
    "for i in cluster:\n",
    "    # select sub cluster\n",
    "    data = adata[adata.obs['Sub_Cluster']==i]\n",
    "    # read toomanycells cluster result\n",
    "    tmc = pd.read_csv('./result/cluster/'+i+'_cluster.csv',usecols=['cell','cluster'],index_col=0)\n",
    "    # add the toomanycells cluster information to 'adata.obs'\n",
    "    data.obs = data.obs.join(tmc)\n",
    "    # construct a DataFrame to store cluster count\n",
    "    df = pd.DataFrame(data=np.unique(data.obs['cluster']),columns=['Cluster'])\n",
    "    # calculate 'Count','PR_Count' and 'SD_Count' for each cluster\n",
    "    for j in df.index:\n",
    "        df_data = data.obs[data.obs['cluster']==df.loc[j,'Cluster']]\n",
    "        df.loc[j,'Count'] = len(df_data)\n",
    "        df.loc[j,'PR_Count'] = len(df_data[df_data['Response']=='PR'])\n",
    "        df.loc[j,'SD_Count'] = len(df_data[df_data['Response']=='SD'])\n",
    "    \n",
    "    # add root information to 'df' and name it as cluster 0 \n",
    "    df.loc[len(df)] = [0,len(data),len(data[data.obs['Response']=='PR']),len(data[data.obs['Response']=='SD'])]\n",
    "    df = df.sort_values(by='Cluster')\n",
    "    \n",
    "    # caculate the Propotion\n",
    "    df['PR_Prop'] = df['PR_Count'] / df['Count']\n",
    "    df['SD_Prop'] = df['SD_Count'] / df['Count']\n",
    "    # output the count 'df'\n",
    "    df.to_csv('./data/cluster_count/'+i+'_cluster_count.csv',index=False)"
   ]
  }
 ],
 "metadata": {
  "kernelspec": {
   "display_name": "Python 3 (ipykernel)",
   "language": "python",
   "name": "python3"
  },
  "language_info": {
   "codemirror_mode": {
    "name": "ipython",
    "version": 3
   },
   "file_extension": ".py",
   "mimetype": "text/x-python",
   "name": "python",
   "nbconvert_exporter": "python",
   "pygments_lexer": "ipython3",
   "version": "3.8.13"
  }
 },
 "nbformat": 4,
 "nbformat_minor": 5
}
