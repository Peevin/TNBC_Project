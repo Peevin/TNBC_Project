{
 "cells": [
  {
   "cell_type": "code",
   "execution_count": 1,
   "id": "f6eff722",
   "metadata": {},
   "outputs": [],
   "source": [
    "import pandas as pd\n",
    "import scanpy as sc\n",
    "import numpy as np"
   ]
  },
  {
   "cell_type": "code",
   "execution_count": 2,
   "id": "897e0632",
   "metadata": {},
   "outputs": [],
   "source": [
    "# load raw count \n",
    "adata = sc.read_h5ad('../data/Tcell_PDL1.h5ad')"
   ]
  },
  {
   "cell_type": "code",
   "execution_count": 3,
   "id": "5c3325fc",
   "metadata": {},
   "outputs": [],
   "source": [
    "cluster = 't_Tact-XIST'"
   ]
  },
  {
   "cell_type": "code",
   "execution_count": 4,
   "id": "2d72552c",
   "metadata": {},
   "outputs": [
    {
     "data": {
      "text/plain": [
       "View of AnnData object with n_obs × n_vars = 2365 × 27085\n",
       "    obs: 'CellName', 'ID', 'Sample', 'Patient', 'group', 'Tissue', 'Origin', 'Response', 'Timeline', 'Treatment', 'batch', 'n_genes', 'percent_mito', 'percent_hsp', 'percent_ig', 'percent_rp', 'n_counts', 'leiden', 'Louvain', 'myleiden', 'defcls', 'Global_Cluster', 'Sub_Cluster', 'Global_tSNE_1', 'Global_tSNE_2', 'Global_UMAP_1', 'Global_UMAP_2', 'Sub_tSNE_1', 'Sub_tSNE_2', 'Sub_UMAP_1', 'Sub_UMAP_2'"
      ]
     },
     "execution_count": 4,
     "metadata": {},
     "output_type": "execute_result"
    }
   ],
   "source": [
    "# select cell subset\n",
    "adata = adata[adata.obs['Sub_Cluster']==cluster]\n",
    "adata"
   ]
  },
  {
   "cell_type": "code",
   "execution_count": 5,
   "id": "bf298aad",
   "metadata": {},
   "outputs": [],
   "source": [
    "# load Toomanycells result\n",
    "ann = pd.read_csv('./data/TMC_result/'+cluster+'_cluster.csv',\n",
    "                 usecols=['cell','cluster'],index_col=0)"
   ]
  },
  {
   "cell_type": "code",
   "execution_count": 6,
   "id": "df317c7b",
   "metadata": {},
   "outputs": [],
   "source": [
    "# add Toomanycells cluster information to obs\n",
    "adata.obs = adata.obs.join(ann)"
   ]
  },
  {
   "cell_type": "code",
   "execution_count": 7,
   "id": "0178203f",
   "metadata": {},
   "outputs": [],
   "source": [
    "# transform the label of non-responder enriched clusters to 0\n",
    "adata.obs['cluster'].replace([20,24,25,26,33,41,42],0,inplace=True)"
   ]
  },
  {
   "cell_type": "code",
   "execution_count": 8,
   "id": "deb67859",
   "metadata": {},
   "outputs": [
    {
     "data": {
      "text/plain": [
       "array([ 0,  4,  5,  7,  8, 11, 12, 14, 15, 21, 29, 30, 32, 36, 37, 40])"
      ]
     },
     "execution_count": 8,
     "metadata": {},
     "output_type": "execute_result"
    }
   ],
   "source": [
    "np.unique(adata.obs['cluster'])"
   ]
  },
  {
   "cell_type": "code",
   "execution_count": 9,
   "id": "daf75c82",
   "metadata": {},
   "outputs": [],
   "source": [
    "# add a columns with label \"NR_E\" and \"non-NR_E\" depends on Toomanycells clusters\n",
    "adata.obs['divide'] = np.where(adata.obs['cluster']==0,'NR_E','non-NR_E')"
   ]
  },
  {
   "cell_type": "code",
   "execution_count": 10,
   "id": "420ced24",
   "metadata": {},
   "outputs": [],
   "source": [
    "# normalize the raw count \n",
    "sc.pp.normalize_total(adata,target_sum=1e6)"
   ]
  },
  {
   "cell_type": "code",
   "execution_count": 11,
   "id": "6b8e1905",
   "metadata": {},
   "outputs": [],
   "source": [
    "# output the NR_E expression matrix\n",
    "adata[adata.obs['divide']=='NR_E'].to_df().T.to_csv('./data/Compass_input/'+cluster+'_NR_E.tsv',sep='\\t')"
   ]
  },
  {
   "cell_type": "code",
   "execution_count": 12,
   "id": "79d1e28a",
   "metadata": {},
   "outputs": [],
   "source": [
    "# output the non-NR_E expression matrix\n",
    "adata[adata.obs['divide']=='non-NR_E'].to_df().T.to_csv('./data/Compass_input/'+cluster+'_non-NR_E.tsv',sep='\\t')"
   ]
  },
  {
   "cell_type": "code",
   "execution_count": null,
   "id": "83a550dd",
   "metadata": {},
   "outputs": [],
   "source": []
  }
 ],
 "metadata": {
  "kernelspec": {
   "display_name": "Python 3 (ipykernel)",
   "language": "python",
   "name": "python3"
  },
  "language_info": {
   "codemirror_mode": {
    "name": "ipython",
    "version": 3
   },
   "file_extension": ".py",
   "mimetype": "text/x-python",
   "name": "python",
   "nbconvert_exporter": "python",
   "pygments_lexer": "ipython3",
   "version": "3.8.13"
  }
 },
 "nbformat": 4,
 "nbformat_minor": 5
}
